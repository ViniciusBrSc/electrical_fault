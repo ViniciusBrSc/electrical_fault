{
 "cells": [
  {
   "cell_type": "code",
   "execution_count": 1,
   "metadata": {},
   "outputs": [],
   "source": [
    "import numpy as np\n",
    "import pandas as pd\n",
    "import matplotlib.pyplot as plt\n",
    "import seaborn as sns\n",
    "\n",
    "from sklearn.metrics import confusion_matrix, accuracy_score, classification_report\n",
    "from tensorflow.keras.layers import Dense\n",
    "from tensorflow.keras.models import Sequential\n",
    "\n",
    "from qbstyles import mpl_style\n",
    "mpl_style(dark=True)"
   ]
  },
  {
   "cell_type": "code",
   "execution_count": null,
   "metadata": {},
   "outputs": [],
   "source": [
    "version = \"v2\" # TODO: MODIFICAR ESTE NOTEBOOK E RODAR PELA PRIMEIRA VEZ..."
   ]
  },
  {
   "cell_type": "code",
   "execution_count": null,
   "metadata": {},
   "outputs": [],
   "source": [
    "df_train = pd.read_csv(f'../../data/processed/df_train_{version}.csv', index_col=[0])\n",
    "df_test = pd.read_csv(f'../../data/processed/df_test_{version}.csv', index_col=[0])\n",
    "display(f'Train: {df_train.shape}', df_train.head(), f'Test: {df_test.shape}', df_test.head())"
   ]
  },
  {
   "cell_type": "code",
   "execution_count": 6,
   "metadata": {},
   "outputs": [
    {
     "name": "stdout",
     "output_type": "stream",
     "text": [
      "Model: \"sequential\"\n",
      "_________________________________________________________________\n",
      " Layer (type)                Output Shape              Param #   \n",
      "=================================================================\n",
      " dense (Dense)               (None, 6)                 42        \n",
      "                                                                 \n",
      " dense_1 (Dense)             (None, 6)                 42        \n",
      "                                                                 \n",
      " dense_2 (Dense)             (None, 1)                 7         \n",
      "                                                                 \n",
      "=================================================================\n",
      "Total params: 91\n",
      "Trainable params: 91\n",
      "Non-trainable params: 0\n",
      "_________________________________________________________________\n"
     ]
    }
   ],
   "source": [
    "model_ann = Sequential()\n",
    "model_ann.add(Dense(units=6, activation='relu', input_shape=(6,)))\n",
    "model_ann.add(Dense(units=6, activation='relu'))\n",
    "model_ann.add(Dense(units=1, activation='sigmoid'))\n",
    "model_ann.compile(optimizer='adam', loss='binary_crossentropy', metrics=['accuracy'])\n",
    "model_ann.summary()"
   ]
  },
  {
   "cell_type": "code",
   "execution_count": 7,
   "metadata": {},
   "outputs": [
    {
     "name": "stdout",
     "output_type": "stream",
     "text": [
      "Epoch 1/100\n",
      "300/300 [==============================] - 2s 3ms/step - loss: 0.6390 - accuracy: 0.6828\n",
      "Epoch 2/100\n",
      "300/300 [==============================] - 1s 3ms/step - loss: 0.3691 - accuracy: 0.9717\n",
      "Epoch 3/100\n",
      "300/300 [==============================] - 1s 3ms/step - loss: 0.1586 - accuracy: 0.9757\n",
      "Epoch 4/100\n",
      "300/300 [==============================] - 1s 3ms/step - loss: 0.0834 - accuracy: 0.9790\n",
      "Epoch 5/100\n",
      "300/300 [==============================] - 1s 3ms/step - loss: 0.0639 - accuracy: 0.9822\n",
      "Epoch 6/100\n",
      "300/300 [==============================] - 1s 3ms/step - loss: 0.0541 - accuracy: 0.9847\n",
      "Epoch 7/100\n",
      "300/300 [==============================] - 1s 3ms/step - loss: 0.0486 - accuracy: 0.9858\n",
      "Epoch 8/100\n",
      "300/300 [==============================] - 1s 3ms/step - loss: 0.0446 - accuracy: 0.9870\n",
      "Epoch 9/100\n",
      "300/300 [==============================] - 1s 3ms/step - loss: 0.0418 - accuracy: 0.9880\n",
      "Epoch 10/100\n",
      "300/300 [==============================] - 1s 3ms/step - loss: 0.0398 - accuracy: 0.9878\n",
      "Epoch 11/100\n",
      "300/300 [==============================] - 1s 3ms/step - loss: 0.0383 - accuracy: 0.9887\n",
      "Epoch 12/100\n",
      "300/300 [==============================] - 1s 3ms/step - loss: 0.0374 - accuracy: 0.9891\n",
      "Epoch 13/100\n",
      "300/300 [==============================] - 1s 3ms/step - loss: 0.0363 - accuracy: 0.9885\n",
      "Epoch 14/100\n",
      "300/300 [==============================] - 1s 3ms/step - loss: 0.0357 - accuracy: 0.9886\n",
      "Epoch 15/100\n",
      "300/300 [==============================] - 1s 3ms/step - loss: 0.0349 - accuracy: 0.9898\n",
      "Epoch 16/100\n",
      "300/300 [==============================] - 1s 3ms/step - loss: 0.0346 - accuracy: 0.9897\n",
      "Epoch 17/100\n",
      "300/300 [==============================] - 1s 3ms/step - loss: 0.0341 - accuracy: 0.9899\n",
      "Epoch 18/100\n",
      "300/300 [==============================] - 1s 3ms/step - loss: 0.0336 - accuracy: 0.9901\n",
      "Epoch 19/100\n",
      "300/300 [==============================] - 1s 3ms/step - loss: 0.0331 - accuracy: 0.9900\n",
      "Epoch 20/100\n",
      "300/300 [==============================] - 1s 3ms/step - loss: 0.0331 - accuracy: 0.9898\n",
      "Epoch 21/100\n",
      "300/300 [==============================] - 1s 3ms/step - loss: 0.0325 - accuracy: 0.9899\n",
      "Epoch 22/100\n",
      "300/300 [==============================] - 1s 3ms/step - loss: 0.0322 - accuracy: 0.9901\n",
      "Epoch 23/100\n",
      "300/300 [==============================] - 1s 3ms/step - loss: 0.0318 - accuracy: 0.9906\n",
      "Epoch 24/100\n",
      "300/300 [==============================] - 1s 3ms/step - loss: 0.0317 - accuracy: 0.9908\n",
      "Epoch 25/100\n",
      "300/300 [==============================] - 1s 3ms/step - loss: 0.0313 - accuracy: 0.9907\n",
      "Epoch 26/100\n",
      "300/300 [==============================] - 1s 3ms/step - loss: 0.0310 - accuracy: 0.9910\n",
      "Epoch 27/100\n",
      "300/300 [==============================] - 1s 3ms/step - loss: 0.0310 - accuracy: 0.9908\n",
      "Epoch 28/100\n",
      "300/300 [==============================] - 1s 3ms/step - loss: 0.0306 - accuracy: 0.9909\n",
      "Epoch 29/100\n",
      "300/300 [==============================] - 1s 3ms/step - loss: 0.0306 - accuracy: 0.9907\n",
      "Epoch 30/100\n",
      "300/300 [==============================] - 1s 3ms/step - loss: 0.0304 - accuracy: 0.9910\n",
      "Epoch 31/100\n",
      "300/300 [==============================] - 1s 3ms/step - loss: 0.0304 - accuracy: 0.9909\n",
      "Epoch 32/100\n",
      "300/300 [==============================] - 1s 3ms/step - loss: 0.0301 - accuracy: 0.9914\n",
      "Epoch 33/100\n",
      "300/300 [==============================] - 1s 3ms/step - loss: 0.0296 - accuracy: 0.9912\n",
      "Epoch 34/100\n",
      "300/300 [==============================] - 1s 3ms/step - loss: 0.0299 - accuracy: 0.9912\n",
      "Epoch 35/100\n",
      "300/300 [==============================] - 1s 3ms/step - loss: 0.0296 - accuracy: 0.9911\n",
      "Epoch 36/100\n",
      "300/300 [==============================] - 1s 3ms/step - loss: 0.0294 - accuracy: 0.9912\n",
      "Epoch 37/100\n",
      "300/300 [==============================] - 1s 3ms/step - loss: 0.0294 - accuracy: 0.9912\n",
      "Epoch 38/100\n",
      "300/300 [==============================] - 1s 3ms/step - loss: 0.0289 - accuracy: 0.9914\n",
      "Epoch 39/100\n",
      "300/300 [==============================] - 1s 2ms/step - loss: 0.0289 - accuracy: 0.9912\n",
      "Epoch 40/100\n",
      "300/300 [==============================] - 1s 2ms/step - loss: 0.0287 - accuracy: 0.9911\n",
      "Epoch 41/100\n",
      "300/300 [==============================] - 1s 3ms/step - loss: 0.0287 - accuracy: 0.9914\n",
      "Epoch 42/100\n",
      "300/300 [==============================] - 1s 3ms/step - loss: 0.0287 - accuracy: 0.9914\n",
      "Epoch 43/100\n",
      "300/300 [==============================] - 1s 3ms/step - loss: 0.0283 - accuracy: 0.9915\n",
      "Epoch 44/100\n",
      "300/300 [==============================] - 1s 3ms/step - loss: 0.0284 - accuracy: 0.9912\n",
      "Epoch 45/100\n",
      "300/300 [==============================] - 1s 3ms/step - loss: 0.0281 - accuracy: 0.9912\n",
      "Epoch 46/100\n",
      "300/300 [==============================] - 1s 3ms/step - loss: 0.0278 - accuracy: 0.9918\n",
      "Epoch 47/100\n",
      "300/300 [==============================] - 1s 3ms/step - loss: 0.0273 - accuracy: 0.9917\n",
      "Epoch 48/100\n",
      "300/300 [==============================] - 1s 3ms/step - loss: 0.0280 - accuracy: 0.9918\n",
      "Epoch 49/100\n",
      "300/300 [==============================] - 1s 3ms/step - loss: 0.0274 - accuracy: 0.9918\n",
      "Epoch 50/100\n",
      "300/300 [==============================] - 1s 3ms/step - loss: 0.0275 - accuracy: 0.9915\n",
      "Epoch 51/100\n",
      "300/300 [==============================] - 1s 4ms/step - loss: 0.0272 - accuracy: 0.9914\n",
      "Epoch 52/100\n",
      "300/300 [==============================] - 1s 4ms/step - loss: 0.0273 - accuracy: 0.9917\n",
      "Epoch 53/100\n",
      "300/300 [==============================] - 1s 4ms/step - loss: 0.0272 - accuracy: 0.9916\n",
      "Epoch 54/100\n",
      "300/300 [==============================] - 1s 4ms/step - loss: 0.0268 - accuracy: 0.9919\n",
      "Epoch 55/100\n",
      "300/300 [==============================] - 1s 4ms/step - loss: 0.0269 - accuracy: 0.9915\n",
      "Epoch 56/100\n",
      "300/300 [==============================] - 1s 3ms/step - loss: 0.0267 - accuracy: 0.9916\n",
      "Epoch 57/100\n",
      "300/300 [==============================] - 1s 4ms/step - loss: 0.0265 - accuracy: 0.9920\n",
      "Epoch 58/100\n",
      "300/300 [==============================] - 1s 3ms/step - loss: 0.0267 - accuracy: 0.9917\n",
      "Epoch 59/100\n",
      "300/300 [==============================] - 1s 3ms/step - loss: 0.0260 - accuracy: 0.9916\n",
      "Epoch 60/100\n",
      "300/300 [==============================] - 1s 3ms/step - loss: 0.0264 - accuracy: 0.9916\n",
      "Epoch 61/100\n",
      "300/300 [==============================] - 1s 3ms/step - loss: 0.0260 - accuracy: 0.9917\n",
      "Epoch 62/100\n",
      "300/300 [==============================] - 1s 3ms/step - loss: 0.0261 - accuracy: 0.9917\n",
      "Epoch 63/100\n",
      "300/300 [==============================] - 1s 2ms/step - loss: 0.0261 - accuracy: 0.9916\n",
      "Epoch 64/100\n",
      "300/300 [==============================] - 1s 2ms/step - loss: 0.0262 - accuracy: 0.9918\n",
      "Epoch 65/100\n",
      "300/300 [==============================] - 1s 3ms/step - loss: 0.0260 - accuracy: 0.9917\n",
      "Epoch 66/100\n",
      "300/300 [==============================] - 1s 3ms/step - loss: 0.0255 - accuracy: 0.9922\n",
      "Epoch 67/100\n",
      "300/300 [==============================] - 1s 2ms/step - loss: 0.0258 - accuracy: 0.9921\n",
      "Epoch 68/100\n",
      "300/300 [==============================] - 1s 2ms/step - loss: 0.0256 - accuracy: 0.9918\n",
      "Epoch 69/100\n",
      "300/300 [==============================] - 1s 3ms/step - loss: 0.0254 - accuracy: 0.9918\n",
      "Epoch 70/100\n",
      "300/300 [==============================] - 1s 3ms/step - loss: 0.0253 - accuracy: 0.9920\n",
      "Epoch 71/100\n",
      "300/300 [==============================] - 1s 3ms/step - loss: 0.0253 - accuracy: 0.9919\n",
      "Epoch 72/100\n",
      "300/300 [==============================] - 1s 3ms/step - loss: 0.0252 - accuracy: 0.9919\n",
      "Epoch 73/100\n",
      "300/300 [==============================] - 1s 3ms/step - loss: 0.0250 - accuracy: 0.9921\n",
      "Epoch 74/100\n",
      "300/300 [==============================] - 1s 2ms/step - loss: 0.0253 - accuracy: 0.9920\n",
      "Epoch 75/100\n",
      "300/300 [==============================] - 1s 3ms/step - loss: 0.0252 - accuracy: 0.9922\n",
      "Epoch 76/100\n",
      "300/300 [==============================] - 1s 3ms/step - loss: 0.0252 - accuracy: 0.9920\n",
      "Epoch 77/100\n",
      "300/300 [==============================] - 1s 3ms/step - loss: 0.0247 - accuracy: 0.9922\n",
      "Epoch 78/100\n",
      "300/300 [==============================] - 1s 3ms/step - loss: 0.0250 - accuracy: 0.9922\n",
      "Epoch 79/100\n",
      "300/300 [==============================] - 1s 3ms/step - loss: 0.0248 - accuracy: 0.9922\n",
      "Epoch 80/100\n",
      "300/300 [==============================] - 1s 4ms/step - loss: 0.0246 - accuracy: 0.9918\n",
      "Epoch 81/100\n",
      "300/300 [==============================] - 1s 3ms/step - loss: 0.0249 - accuracy: 0.9923\n",
      "Epoch 82/100\n",
      "300/300 [==============================] - 1s 3ms/step - loss: 0.0248 - accuracy: 0.9923\n",
      "Epoch 83/100\n",
      "300/300 [==============================] - 1s 4ms/step - loss: 0.0246 - accuracy: 0.9922\n",
      "Epoch 84/100\n",
      "300/300 [==============================] - 1s 3ms/step - loss: 0.0246 - accuracy: 0.9923\n",
      "Epoch 85/100\n",
      "300/300 [==============================] - 1s 3ms/step - loss: 0.0247 - accuracy: 0.9922\n",
      "Epoch 86/100\n",
      "300/300 [==============================] - 1s 3ms/step - loss: 0.0245 - accuracy: 0.9926\n",
      "Epoch 87/100\n",
      "300/300 [==============================] - 1s 3ms/step - loss: 0.0244 - accuracy: 0.9919\n",
      "Epoch 88/100\n",
      "300/300 [==============================] - 1s 2ms/step - loss: 0.0245 - accuracy: 0.9924\n",
      "Epoch 89/100\n",
      "300/300 [==============================] - 1s 4ms/step - loss: 0.0243 - accuracy: 0.9923\n",
      "Epoch 90/100\n",
      "300/300 [==============================] - 1s 4ms/step - loss: 0.0244 - accuracy: 0.9920\n",
      "Epoch 91/100\n",
      "300/300 [==============================] - 1s 3ms/step - loss: 0.0243 - accuracy: 0.9923\n",
      "Epoch 92/100\n",
      "300/300 [==============================] - 1s 2ms/step - loss: 0.0244 - accuracy: 0.9928\n",
      "Epoch 93/100\n",
      "300/300 [==============================] - 1s 2ms/step - loss: 0.0243 - accuracy: 0.9922\n",
      "Epoch 94/100\n",
      "300/300 [==============================] - 1s 4ms/step - loss: 0.0237 - accuracy: 0.9922\n",
      "Epoch 95/100\n",
      "300/300 [==============================] - 1s 3ms/step - loss: 0.0241 - accuracy: 0.9921\n",
      "Epoch 96/100\n",
      "300/300 [==============================] - 1s 2ms/step - loss: 0.0241 - accuracy: 0.9925\n",
      "Epoch 97/100\n",
      "300/300 [==============================] - 1s 2ms/step - loss: 0.0238 - accuracy: 0.9924\n",
      "Epoch 98/100\n",
      "300/300 [==============================] - 1s 3ms/step - loss: 0.0236 - accuracy: 0.9925\n",
      "Epoch 99/100\n",
      "300/300 [==============================] - 1s 2ms/step - loss: 0.0234 - accuracy: 0.9924\n",
      "Epoch 100/100\n",
      "300/300 [==============================] - 1s 2ms/step - loss: 0.0238 - accuracy: 0.9925\n"
     ]
    }
   ],
   "source": [
    "hist = model_ann.fit(X_train_ss, Y_train, batch_size=32, epochs=100)"
   ]
  },
  {
   "cell_type": "code",
   "execution_count": 8,
   "metadata": {},
   "outputs": [
    {
     "name": "stdout",
     "output_type": "stream",
     "text": [
      "Train loss: 0.023300016298890114\n",
      "Train acc: 0.9926041960716248\n",
      "Test loss: 0.02420645020902157\n",
      "Test acc: 0.9929196238517761\n"
     ]
    }
   ],
   "source": [
    "loss_train, acc_train = model_ann.evaluate(X_train_ss, Y_train, verbose=0)\n",
    "print('Train loss:', loss_train)\n",
    "print('Train acc:', acc_train)\n",
    "loss_test, acc_test = model_ann.evaluate(X_test_ss, Y_test, verbose=0)\n",
    "print('Test loss:', loss_test)\n",
    "print('Test acc:', acc_test)"
   ]
  },
  {
   "cell_type": "code",
   "execution_count": 9,
   "metadata": {},
   "outputs": [
    {
     "data": {
      "text/html": [
       "<div>\n",
       "<style scoped>\n",
       "    .dataframe tbody tr th:only-of-type {\n",
       "        vertical-align: middle;\n",
       "    }\n",
       "\n",
       "    .dataframe tbody tr th {\n",
       "        vertical-align: top;\n",
       "    }\n",
       "\n",
       "    .dataframe thead th {\n",
       "        text-align: right;\n",
       "    }\n",
       "</style>\n",
       "<table border=\"1\" class=\"dataframe\">\n",
       "  <thead>\n",
       "    <tr style=\"text-align: right;\">\n",
       "      <th></th>\n",
       "      <th>loss</th>\n",
       "      <th>accuracy</th>\n",
       "    </tr>\n",
       "  </thead>\n",
       "  <tbody>\n",
       "    <tr>\n",
       "      <th>0</th>\n",
       "      <td>0.639026</td>\n",
       "      <td>0.682813</td>\n",
       "    </tr>\n",
       "    <tr>\n",
       "      <th>1</th>\n",
       "      <td>0.369149</td>\n",
       "      <td>0.971667</td>\n",
       "    </tr>\n",
       "    <tr>\n",
       "      <th>2</th>\n",
       "      <td>0.158632</td>\n",
       "      <td>0.975729</td>\n",
       "    </tr>\n",
       "    <tr>\n",
       "      <th>3</th>\n",
       "      <td>0.083432</td>\n",
       "      <td>0.978958</td>\n",
       "    </tr>\n",
       "    <tr>\n",
       "      <th>4</th>\n",
       "      <td>0.063862</td>\n",
       "      <td>0.982188</td>\n",
       "    </tr>\n",
       "    <tr>\n",
       "      <th>...</th>\n",
       "      <td>...</td>\n",
       "      <td>...</td>\n",
       "    </tr>\n",
       "    <tr>\n",
       "      <th>95</th>\n",
       "      <td>0.024068</td>\n",
       "      <td>0.992500</td>\n",
       "    </tr>\n",
       "    <tr>\n",
       "      <th>96</th>\n",
       "      <td>0.023757</td>\n",
       "      <td>0.992396</td>\n",
       "    </tr>\n",
       "    <tr>\n",
       "      <th>97</th>\n",
       "      <td>0.023596</td>\n",
       "      <td>0.992500</td>\n",
       "    </tr>\n",
       "    <tr>\n",
       "      <th>98</th>\n",
       "      <td>0.023440</td>\n",
       "      <td>0.992396</td>\n",
       "    </tr>\n",
       "    <tr>\n",
       "      <th>99</th>\n",
       "      <td>0.023837</td>\n",
       "      <td>0.992500</td>\n",
       "    </tr>\n",
       "  </tbody>\n",
       "</table>\n",
       "<p>100 rows × 2 columns</p>\n",
       "</div>"
      ],
      "text/plain": [
       "        loss  accuracy\n",
       "0   0.639026  0.682813\n",
       "1   0.369149  0.971667\n",
       "2   0.158632  0.975729\n",
       "3   0.083432  0.978958\n",
       "4   0.063862  0.982188\n",
       "..       ...       ...\n",
       "95  0.024068  0.992500\n",
       "96  0.023757  0.992396\n",
       "97  0.023596  0.992500\n",
       "98  0.023440  0.992396\n",
       "99  0.023837  0.992500\n",
       "\n",
       "[100 rows x 2 columns]"
      ]
     },
     "execution_count": 9,
     "metadata": {},
     "output_type": "execute_result"
    }
   ],
   "source": [
    "losses = pd.DataFrame(hist.history)\n",
    "losses"
   ]
  },
  {
   "cell_type": "code",
   "execution_count": 10,
   "metadata": {},
   "outputs": [
    {
     "data": {
      "text/plain": [
       "[<matplotlib.lines.Line2D at 0x17e986d7ac0>]"
      ]
     },
     "execution_count": 10,
     "metadata": {},
     "output_type": "execute_result"
    },
    {
     "data": {
      "image/png": "[encoded data removed]",
      "text/plain": [
       "<Figure size 432x288 with 1 Axes>"
      ]
     },
     "metadata": {},
     "output_type": "display_data"
    }
   ],
   "source": [
    "plt.plot(hist.history['loss'])"
   ]
  },
  {
   "cell_type": "code",
   "execution_count": 11,
   "metadata": {},
   "outputs": [
    {
     "data": {
      "text/plain": [
       "[<matplotlib.lines.Line2D at 0x17e9a8304f0>]"
      ]
     },
     "execution_count": 11,
     "metadata": {},
     "output_type": "execute_result"
    },
    {
     "data": {
      "image/png": "[encoded data removed]",
      "text/plain": [
       "<Figure size 432x288 with 1 Axes>"
      ]
     },
     "metadata": {},
     "output_type": "display_data"
    }
   ],
   "source": [
    "plt.plot(hist.history['accuracy'])"
   ]
  },
  {
   "cell_type": "code",
   "execution_count": 45,
   "metadata": {},
   "outputs": [
    {
     "name": "stdout",
     "output_type": "stream",
     "text": [
      "300/300 [==============================] - 1s 2ms/step\n",
      "76/76 [==============================] - 0s 3ms/step\n"
     ]
    }
   ],
   "source": [
    "Y_train_pred = model_ann.predict(X_train_ss)\n",
    "Y_test_pred = model_ann.predict(X_test_ss)\n",
    "Y_train_pred = np.where(Y_train_pred < 0.5, 0, 1)\n",
    "Y_test_pred = np.where(Y_test_pred < 0.5, 0, 1)\n",
    "Y_train_pred = np.reshape(Y_train_pred,len(Y_train_pred))\n",
    "Y_test_pred = np.reshape(Y_test_pred,len(Y_test_pred))\n",
    "cmf_train = confusion_matrix(Y_train, Y_train_pred)\n",
    "cmf_test = confusion_matrix(Y_test, Y_test_pred)"
   ]
  },
  {
   "cell_type": "code",
   "execution_count": 24,
   "metadata": {},
   "outputs": [
    {
     "data": {
      "text/plain": [
       "<AxesSubplot:>"
      ]
     },
     "execution_count": 24,
     "metadata": {},
     "output_type": "execute_result"
    },
    {
     "data": {
      "image/png": "[encoded data removed]",
      "text/plain": [
       "<Figure size 432x288 with 1 Axes>"
      ]
     },
     "metadata": {},
     "output_type": "display_data"
    }
   ],
   "source": [
    "sns.scatterplot(data=pd.DataFrame(Y_train_pred))"
   ]
  },
  {
   "cell_type": "code",
   "execution_count": 42,
   "metadata": {},
   "outputs": [
    {
     "data": {
      "text/plain": [
       "(9600,)"
      ]
     },
     "execution_count": 42,
     "metadata": {},
     "output_type": "execute_result"
    }
   ],
   "source": [
    "#np.where(Y_train_pred < 0.5, 0, 1).shape#,len(Y_train_pred)\n",
    "np.reshape(np.where(Y_train_pred < 0.5, 0, 1),len(Y_train_pred)).shape"
   ]
  },
  {
   "cell_type": "code",
   "execution_count": 44,
   "metadata": {},
   "outputs": [
    {
     "data": {
      "text/plain": [
       "(9600,)"
      ]
     },
     "execution_count": 44,
     "metadata": {},
     "output_type": "execute_result"
    }
   ],
   "source": [
    "Y_train.shape"
   ]
  },
  {
   "cell_type": "code",
   "execution_count": 48,
   "metadata": {},
   "outputs": [
    {
     "data": {
      "text/plain": [
       "Text(0.5, 1.0, 'Confusion Matrix from training set')"
      ]
     },
     "execution_count": 48,
     "metadata": {},
     "output_type": "execute_result"
    },
    {
     "data": {
      "image/png": "[encoded data removed]",
      "text/plain": [
       "<Figure size 504x288 with 2 Axes>"
      ]
     },
     "metadata": {},
     "output_type": "display_data"
    }
   ],
   "source": [
    "plt.figure(figsize=(7,4))\n",
    "sns.heatmap(cmf_train, annot=True, fmt='d', linecolor='gray')\n",
    "plt.xlabel('P R E D I C T E D')\n",
    "plt.ylabel('R E A L')\n",
    "plt.title('Confusion Matrix from training set')"
   ]
  },
  {
   "cell_type": "code",
   "execution_count": 54,
   "metadata": {},
   "outputs": [
    {
     "name": "stdout",
     "output_type": "stream",
     "text": [
      "              precision    recall  f1-score   support\n",
      "\n",
      "           0       0.99      1.00      0.99      5180\n",
      "           1       1.00      0.99      0.99      4420\n",
      "\n",
      "    accuracy                           0.99      9600\n",
      "   macro avg       0.99      0.99      0.99      9600\n",
      "weighted avg       0.99      0.99      0.99      9600\n",
      "\n"
     ]
    }
   ],
   "source": [
    "print(classification_report(Y_train,Y_train_pred))"
   ]
  },
  {
   "cell_type": "code",
   "execution_count": 49,
   "metadata": {},
   "outputs": [
    {
     "data": {
      "text/plain": [
       "Text(0.5, 1.0, 'Confusion Matrix from test set')"
      ]
     },
     "execution_count": 49,
     "metadata": {},
     "output_type": "execute_result"
    },
    {
     "data": {
      "image/png": "[encoded data removed]",
      "text/plain": [
       "<Figure size 504x288 with 2 Axes>"
      ]
     },
     "metadata": {},
     "output_type": "display_data"
    }
   ],
   "source": [
    "plt.figure(figsize=(7,4))\n",
    "sns.heatmap(cmf_test, annot=True, fmt='d', linecolor='gray')\n",
    "plt.xlabel('P R E D I C T E D')\n",
    "plt.ylabel('R E A L')\n",
    "plt.title('Confusion Matrix from test set')"
   ]
  },
  {
   "cell_type": "code",
   "execution_count": 55,
   "metadata": {},
   "outputs": [
    {
     "name": "stdout",
     "output_type": "stream",
     "text": [
      "              precision    recall  f1-score   support\n",
      "\n",
      "           0       0.99      1.00      0.99      1325\n",
      "           1       1.00      0.99      0.99      1076\n",
      "\n",
      "    accuracy                           0.99      2401\n",
      "   macro avg       0.99      0.99      0.99      2401\n",
      "weighted avg       0.99      0.99      0.99      2401\n",
      "\n"
     ]
    }
   ],
   "source": [
    "print(classification_report(Y_test,Y_test_pred))"
   ]
  }
 ],
 "metadata": {
  "kernelspec": {
   "display_name": "Python 3.10.2 ('.venv': venv)",
   "language": "python",
   "name": "python3"
  },
  "language_info": {
   "codemirror_mode": {
    "name": "ipython",
    "version": 3
   },
   "file_extension": ".py",
   "mimetype": "text/x-python",
   "name": "python",
   "nbconvert_exporter": "python",
   "pygments_lexer": "ipython3",
   "version": "3.10.2"
  },
  "orig_nbformat": 4,
  "vscode": {
   "interpreter": {
    "hash": "fd63fbb4ffae6aa89dd8eeeb798614f517221e67db92ca128ae1e10493afb8b2"
   }
  }
 },
 "nbformat": 4,
 "nbformat_minor": 2
}
